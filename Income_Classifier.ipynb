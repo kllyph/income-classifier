{
 "cells": [
  {
   "cell_type": "markdown",
   "metadata": {},
   "source": [
    "# Lab 8: Define and Solve an ML Problem of Your Choosing"
   ]
  },
  {
   "cell_type": "code",
   "execution_count": 97,
   "metadata": {},
   "outputs": [],
   "source": [
    "import pandas as pd\n",
    "import numpy as np\n",
    "import os \n",
    "import matplotlib.pyplot as plt\n",
    "import seaborn as sns"
   ]
  },
  {
   "cell_type": "markdown",
   "metadata": {},
   "source": [
    "In this lab assignment, you will follow the machine learning life cycle and implement a model to solve a machine learning problem of your choosing. You will select a data set and choose a predictive problem that the data set supports.  You will then inspect the data with your problem in mind and begin to formulate a  project plan. You will then implement the machine learning project plan. \n",
    "\n",
    "You will complete the following tasks:\n",
    "\n",
    "1. Build Your DataFrame\n",
    "2. Define Your ML Problem\n",
    "3. Perform exploratory data analysis to understand your data.\n",
    "4. Define Your Project Plan\n",
    "5. Implement Your Project Plan:\n",
    "    * Prepare your data for your model.\n",
    "    * Fit your model to the training data and evaluate your model.\n",
    "    * Improve your model's performance."
   ]
  },
  {
   "cell_type": "markdown",
   "metadata": {},
   "source": [
    "## Part 1: Build Your DataFrame\n",
    "\n",
    "You will have the option to choose one of four data sets that you have worked with in this program:\n",
    "\n",
    "* The \"census\" data set that contains Census information from 1994: `censusData.csv`\n",
    "* Airbnb NYC \"listings\" data set: `airbnbListingsData.csv`\n",
    "* World Happiness Report (WHR) data set: `WHR2018Chapter2OnlineData.csv`\n",
    "* Book Review data set: `bookReviewsData.csv`\n",
    "\n",
    "Note that these are variations of the data sets that you have worked with in this program. For example, some do not include some of the preprocessing necessary for specific models. \n",
    "\n",
    "#### Load a Data Set and Save it as a Pandas DataFrame\n",
    "\n",
    "The code cell below contains filenames (path + filename) for each of the four data sets available to you.\n",
    "\n",
    "<b>Task:</b> In the code cell below, use the same method you have been using to load the data using `pd.read_csv()` and save it to DataFrame `df`. \n",
    "\n",
    "You can load each file as a new DataFrame to inspect the data before choosing your data set."
   ]
  },
  {
   "cell_type": "code",
   "execution_count": 144,
   "metadata": {},
   "outputs": [
    {
     "data": {
      "text/html": [
       "<div>\n",
       "<style scoped>\n",
       "    .dataframe tbody tr th:only-of-type {\n",
       "        vertical-align: middle;\n",
       "    }\n",
       "\n",
       "    .dataframe tbody tr th {\n",
       "        vertical-align: top;\n",
       "    }\n",
       "\n",
       "    .dataframe thead th {\n",
       "        text-align: right;\n",
       "    }\n",
       "</style>\n",
       "<table border=\"1\" class=\"dataframe\">\n",
       "  <thead>\n",
       "    <tr style=\"text-align: right;\">\n",
       "      <th></th>\n",
       "      <th>age</th>\n",
       "      <th>workclass</th>\n",
       "      <th>fnlwgt</th>\n",
       "      <th>education</th>\n",
       "      <th>education-num</th>\n",
       "      <th>marital-status</th>\n",
       "      <th>occupation</th>\n",
       "      <th>relationship</th>\n",
       "      <th>race</th>\n",
       "      <th>sex_selfID</th>\n",
       "      <th>capital-gain</th>\n",
       "      <th>capital-loss</th>\n",
       "      <th>hours-per-week</th>\n",
       "      <th>native-country</th>\n",
       "      <th>income_binary</th>\n",
       "    </tr>\n",
       "  </thead>\n",
       "  <tbody>\n",
       "    <tr>\n",
       "      <th>0</th>\n",
       "      <td>39.0</td>\n",
       "      <td>State-gov</td>\n",
       "      <td>77516</td>\n",
       "      <td>Bachelors</td>\n",
       "      <td>13</td>\n",
       "      <td>Never-married</td>\n",
       "      <td>Adm-clerical</td>\n",
       "      <td>Not-in-family</td>\n",
       "      <td>White</td>\n",
       "      <td>Non-Female</td>\n",
       "      <td>2174</td>\n",
       "      <td>0</td>\n",
       "      <td>40.0</td>\n",
       "      <td>United-States</td>\n",
       "      <td>&lt;=50K</td>\n",
       "    </tr>\n",
       "    <tr>\n",
       "      <th>1</th>\n",
       "      <td>50.0</td>\n",
       "      <td>Self-emp-not-inc</td>\n",
       "      <td>83311</td>\n",
       "      <td>Bachelors</td>\n",
       "      <td>13</td>\n",
       "      <td>Married-civ-spouse</td>\n",
       "      <td>Exec-managerial</td>\n",
       "      <td>Husband</td>\n",
       "      <td>White</td>\n",
       "      <td>Non-Female</td>\n",
       "      <td>0</td>\n",
       "      <td>0</td>\n",
       "      <td>13.0</td>\n",
       "      <td>United-States</td>\n",
       "      <td>&lt;=50K</td>\n",
       "    </tr>\n",
       "    <tr>\n",
       "      <th>2</th>\n",
       "      <td>38.0</td>\n",
       "      <td>Private</td>\n",
       "      <td>215646</td>\n",
       "      <td>HS-grad</td>\n",
       "      <td>9</td>\n",
       "      <td>Divorced</td>\n",
       "      <td>Handlers-cleaners</td>\n",
       "      <td>Not-in-family</td>\n",
       "      <td>White</td>\n",
       "      <td>Non-Female</td>\n",
       "      <td>0</td>\n",
       "      <td>0</td>\n",
       "      <td>40.0</td>\n",
       "      <td>United-States</td>\n",
       "      <td>&lt;=50K</td>\n",
       "    </tr>\n",
       "    <tr>\n",
       "      <th>3</th>\n",
       "      <td>53.0</td>\n",
       "      <td>Private</td>\n",
       "      <td>234721</td>\n",
       "      <td>11th</td>\n",
       "      <td>7</td>\n",
       "      <td>Married-civ-spouse</td>\n",
       "      <td>Handlers-cleaners</td>\n",
       "      <td>Husband</td>\n",
       "      <td>Black</td>\n",
       "      <td>Non-Female</td>\n",
       "      <td>0</td>\n",
       "      <td>0</td>\n",
       "      <td>40.0</td>\n",
       "      <td>United-States</td>\n",
       "      <td>&lt;=50K</td>\n",
       "    </tr>\n",
       "    <tr>\n",
       "      <th>4</th>\n",
       "      <td>28.0</td>\n",
       "      <td>Private</td>\n",
       "      <td>338409</td>\n",
       "      <td>Bachelors</td>\n",
       "      <td>13</td>\n",
       "      <td>Married-civ-spouse</td>\n",
       "      <td>Prof-specialty</td>\n",
       "      <td>Wife</td>\n",
       "      <td>Black</td>\n",
       "      <td>Female</td>\n",
       "      <td>0</td>\n",
       "      <td>0</td>\n",
       "      <td>40.0</td>\n",
       "      <td>Cuba</td>\n",
       "      <td>&lt;=50K</td>\n",
       "    </tr>\n",
       "  </tbody>\n",
       "</table>\n",
       "</div>"
      ],
      "text/plain": [
       "    age         workclass  fnlwgt  education  education-num  \\\n",
       "0  39.0         State-gov   77516  Bachelors             13   \n",
       "1  50.0  Self-emp-not-inc   83311  Bachelors             13   \n",
       "2  38.0           Private  215646    HS-grad              9   \n",
       "3  53.0           Private  234721       11th              7   \n",
       "4  28.0           Private  338409  Bachelors             13   \n",
       "\n",
       "       marital-status         occupation   relationship   race  sex_selfID  \\\n",
       "0       Never-married       Adm-clerical  Not-in-family  White  Non-Female   \n",
       "1  Married-civ-spouse    Exec-managerial        Husband  White  Non-Female   \n",
       "2            Divorced  Handlers-cleaners  Not-in-family  White  Non-Female   \n",
       "3  Married-civ-spouse  Handlers-cleaners        Husband  Black  Non-Female   \n",
       "4  Married-civ-spouse     Prof-specialty           Wife  Black      Female   \n",
       "\n",
       "   capital-gain  capital-loss  hours-per-week native-country income_binary  \n",
       "0          2174             0            40.0  United-States         <=50K  \n",
       "1             0             0            13.0  United-States         <=50K  \n",
       "2             0             0            40.0  United-States         <=50K  \n",
       "3             0             0            40.0  United-States         <=50K  \n",
       "4             0             0            40.0           Cuba         <=50K  "
      ]
     },
     "execution_count": 144,
     "metadata": {},
     "output_type": "execute_result"
    }
   ],
   "source": [
    "#data\n",
    "adultDataSet_filename = os.path.join(os.getcwd(), \"data\", \"censusData.csv\")\n",
    "df = pd.read_csv(adultDataSet_filename, header=0)\n",
    "df.head()"
   ]
  },
  {
   "cell_type": "markdown",
   "metadata": {},
   "source": [
    "## Part 2: Define Your ML Problem\n",
    "\n",
    "Next you will formulate your ML Problem. In the markdown cell below, answer the following questions:\n",
    "\n",
    "1. List the data set you have chosen.\n",
    "2. What will you be predicting? What is the label?\n",
    "3. Is this a supervised or unsupervised learning problem? Is this a clustering, classification or regression problem? Is it a binary classificaiton or multi-class classifiction problem?\n",
    "4. What are your features? (note: this list may change after your explore your data)\n",
    "5. Explain why this is an important problem. In other words, how would a company create value with a model that predicts this label?"
   ]
  },
  {
   "cell_type": "markdown",
   "metadata": {},
   "source": [
    "The goal is to predict whether a person's income is greater than or less than $50K using the Adult Census dataset. This is a supervised learning problem because the model is trained on labeled data. Since there are only two possible outcomes for income, it qualifies as a binary classification task.\n",
    "\n",
    "Initially, all features in the dataset will be considered, such as age, education, occupation, and hours worked per week. After cleaning the data, feature selection techniques like correlation analysis will be applied to identify the most relevant predictors for the income label.\n",
    "\n",
    "This problem holds practical value for companies, especially in the banking industry. By predicting income levels, banks can assess creditworthiness, tailor financial products, and evaluate financial stability. A reliable model can help improve decision-making, reduce risk, and offer personalized services to customers."
   ]
  },
  {
   "cell_type": "markdown",
   "metadata": {},
   "source": [
    "## Part 3: Understand Your Data\n",
    "\n",
    "The next step is to perform exploratory data analysis. Inspect and analyze your data set with your machine learning problem in mind. Consider the following as you inspect your data:\n",
    "\n",
    "1. What data preparation techniques would you like to use? These data preparation techniques may include:\n",
    "\n",
    "    * addressing missingness, such as replacing missing values with means\n",
    "    * finding and replacing outliers\n",
    "    * renaming features and labels\n",
    "    * finding and replacing outliers\n",
    "    * performing feature engineering techniques such as one-hot encoding on categorical features\n",
    "    * selecting appropriate features and removing irrelevant features\n",
    "    * performing specific data cleaning and preprocessing techniques for an NLP problem\n",
    "    * addressing class imbalance in your data sample to promote fair AI\n",
    "    \n",
    "\n",
    "2. What machine learning model (or models) you would like to use that is suitable for your predictive problem and data?\n",
    "    * Are there other data preparation techniques that you will need to apply to build a balanced modeling data set for your problem and model? For example, will you need to scale your data?\n",
    " \n",
    " \n",
    "3. How will you evaluate and improve the model's performance?\n",
    "    * Are there specific evaluation metrics and methods that are appropriate for your model?\n",
    "    \n",
    "\n",
    "Think of the different techniques you have used to inspect and analyze your data in this course. These include using Pandas to apply data filters, using the Pandas `describe()` method to get insight into key statistics for each column, using the Pandas `dtypes` property to inspect the data type of each column, and using Matplotlib and Seaborn to detect outliers and visualize relationships between features and labels. If you are working on a classification problem, use techniques you have learned to determine if there is class imbalance.\n",
    "\n",
    "<b>Task</b>: Use the techniques you have learned in this course to inspect and analyze your data. You can import additional packages that you have used in this course that you will need to perform this task.\n",
    "\n",
    "<b>Note</b>: You can add code cells if needed by going to the <b>Insert</b> menu and clicking on <b>Insert Cell Below</b> in the drop-drown menu."
   ]
  },
  {
   "cell_type": "code",
   "execution_count": 136,
   "metadata": {},
   "outputs": [
    {
     "data": {
      "text/plain": [
       "0        <=50K\n",
       "1        <=50K\n",
       "2        <=50K\n",
       "3        <=50K\n",
       "4        <=50K\n",
       "         ...  \n",
       "32556    <=50K\n",
       "32557     >50K\n",
       "32558    <=50K\n",
       "32559    <=50K\n",
       "32560     >50K\n",
       "Name: income_binary, Length: 32561, dtype: object"
      ]
     },
     "execution_count": 136,
     "metadata": {},
     "output_type": "execute_result"
    }
   ],
   "source": [
    "df['income_binary']"
   ]
  },
  {
   "cell_type": "code",
   "execution_count": 137,
   "metadata": {},
   "outputs": [
    {
     "data": {
      "text/plain": [
       "age                162\n",
       "workclass         1836\n",
       "fnlwgt               0\n",
       "education            0\n",
       "education-num        0\n",
       "marital-status       0\n",
       "occupation        1843\n",
       "relationship         0\n",
       "race                 0\n",
       "sex_selfID           0\n",
       "capital-gain         0\n",
       "capital-loss         0\n",
       "hours-per-week     325\n",
       "native-country     583\n",
       "income_binary        0\n",
       "dtype: int64"
      ]
     },
     "execution_count": 137,
     "metadata": {},
     "output_type": "execute_result"
    }
   ],
   "source": [
    "nan_count = df.isnull().sum()\n",
    "nan_count"
   ]
  },
  {
   "cell_type": "code",
   "execution_count": 138,
   "metadata": {},
   "outputs": [],
   "source": [
    "df.dropna(inplace=True)"
   ]
  },
  {
   "cell_type": "code",
   "execution_count": 139,
   "metadata": {},
   "outputs": [
    {
     "data": {
      "text/plain": [
       "age               0\n",
       "workclass         0\n",
       "fnlwgt            0\n",
       "education         0\n",
       "education-num     0\n",
       "marital-status    0\n",
       "occupation        0\n",
       "relationship      0\n",
       "race              0\n",
       "sex_selfID        0\n",
       "capital-gain      0\n",
       "capital-loss      0\n",
       "hours-per-week    0\n",
       "native-country    0\n",
       "income_binary     0\n",
       "dtype: int64"
      ]
     },
     "execution_count": 139,
     "metadata": {},
     "output_type": "execute_result"
    }
   ],
   "source": [
    "nan_count = df.isnull().sum()\n",
    "nan_count #confirming that the missing values were dropped"
   ]
  },
  {
   "cell_type": "code",
   "execution_count": 140,
   "metadata": {},
   "outputs": [
    {
     "data": {
      "text/plain": [
       "age               float64\n",
       "workclass          object\n",
       "fnlwgt              int64\n",
       "education          object\n",
       "education-num       int64\n",
       "marital-status     object\n",
       "occupation         object\n",
       "relationship       object\n",
       "race               object\n",
       "sex_selfID         object\n",
       "capital-gain        int64\n",
       "capital-loss        int64\n",
       "hours-per-week    float64\n",
       "native-country     object\n",
       "income_binary      object\n",
       "dtype: object"
      ]
     },
     "execution_count": 140,
     "metadata": {},
     "output_type": "execute_result"
    }
   ],
   "source": [
    "df.dtypes"
   ]
  },
  {
   "cell_type": "code",
   "execution_count": 141,
   "metadata": {},
   "outputs": [
    {
     "data": {
      "text/plain": [
       "['workclass',\n",
       " 'education',\n",
       " 'marital-status',\n",
       " 'occupation',\n",
       " 'relationship',\n",
       " 'race',\n",
       " 'sex_selfID',\n",
       " 'native-country',\n",
       " 'income_binary']"
      ]
     },
     "execution_count": 141,
     "metadata": {},
     "output_type": "execute_result"
    }
   ],
   "source": [
    "#ONE HOT ENCODING \n",
    "to_encode = list(df.select_dtypes(include=['object']).columns)\n",
    "to_encode"
   ]
  },
  {
   "cell_type": "code",
   "execution_count": 142,
   "metadata": {},
   "outputs": [
    {
     "data": {
      "text/plain": [
       "workclass          7\n",
       "education         16\n",
       "marital-status     7\n",
       "occupation        14\n",
       "relationship       6\n",
       "race               5\n",
       "sex_selfID         2\n",
       "native-country    41\n",
       "income_binary      2\n",
       "dtype: int64"
      ]
     },
     "execution_count": 142,
     "metadata": {},
     "output_type": "execute_result"
    }
   ],
   "source": [
    "df[to_encode].nunique() #listing numbers of unique categories in columns (don't want too high of values)"
   ]
  },
  {
   "cell_type": "code",
   "execution_count": 143,
   "metadata": {},
   "outputs": [
    {
     "name": "stdout",
     "output_type": "stream",
     "text": [
      "Index(['age', 'workclass', 'fnlwgt', 'education', 'education-num',\n",
      "       'marital-status', 'occupation', 'relationship', 'race', 'sex_selfID',\n",
      "       'capital-gain', 'capital-loss', 'hours-per-week', 'income_binary',\n",
      "       'native-country_United-States', 'native-country_Mexico',\n",
      "       'native-country_Philippines', 'native-country_Germany',\n",
      "       'native-country_Puerto-Rico', 'native-country_Canada',\n",
      "       'native-country_El-Salvador', 'native-country_India',\n",
      "       'native-country_Cuba', 'native-country_England',\n",
      "       'native-country_Jamaica', 'native-country_South',\n",
      "       'native-country_China', 'native-country_Italy',\n",
      "       'native-country_Dominican-Republic'],\n",
      "      dtype='object')\n"
     ]
    }
   ],
   "source": [
    "#Native Country \n",
    "top_15_NC = list(df['native-country'].value_counts().head(15).index)\n",
    "\n",
    "for value in top_15_NC:\n",
    "    \n",
    "    ## Create columns and their values\n",
    "    df['native-country_'+ value] = np.where(df['native-country']==value,1,0)\n",
    "    \n",
    "    \n",
    "# Remove the original column from your DataFrame df\n",
    "df.drop(columns = 'native-country', inplace=True)\n",
    "\n",
    "print(df.columns)"
   ]
  },
  {
   "cell_type": "code",
   "execution_count": 107,
   "metadata": {},
   "outputs": [
    {
     "data": {
      "text/plain": [
       "0               State-gov\n",
       "1        Self-emp-not-inc\n",
       "2                 Private\n",
       "3                 Private\n",
       "4                 Private\n",
       "               ...       \n",
       "32556             Private\n",
       "32557             Private\n",
       "32558             Private\n",
       "32559             Private\n",
       "32560        Self-emp-inc\n",
       "Name: workclass, Length: 29716, dtype: object"
      ]
     },
     "execution_count": 107,
     "metadata": {},
     "output_type": "execute_result"
    }
   ],
   "source": [
    "#workclass\n",
    "df['workclass']"
   ]
  },
  {
   "cell_type": "code",
   "execution_count": 108,
   "metadata": {},
   "outputs": [],
   "source": [
    "df_workclass = pd.get_dummies(df['workclass'], prefix='workclass_')\n",
    "\n",
    "df = df.join(df_workclass)\n",
    "\n",
    "# Remove the original 'CreditRating' column from DataFrame df\n",
    "df.drop(columns = 'workclass', inplace=True)"
   ]
  },
  {
   "cell_type": "code",
   "execution_count": 109,
   "metadata": {},
   "outputs": [
    {
     "data": {
      "text/plain": [
       "Index(['age', 'fnlwgt', 'education', 'education-num', 'marital-status',\n",
       "       'occupation', 'relationship', 'race', 'sex_selfID', 'capital-gain',\n",
       "       'capital-loss', 'hours-per-week', 'income_binary',\n",
       "       'native-country_United-States', 'native-country_Mexico',\n",
       "       'native-country_Philippines', 'native-country_Germany',\n",
       "       'native-country_Puerto-Rico', 'native-country_Canada',\n",
       "       'native-country_El-Salvador', 'native-country_India',\n",
       "       'native-country_Cuba', 'native-country_England',\n",
       "       'native-country_Jamaica', 'native-country_South',\n",
       "       'native-country_China', 'native-country_Italy',\n",
       "       'native-country_Dominican-Republic', 'workclass__Federal-gov',\n",
       "       'workclass__Local-gov', 'workclass__Private', 'workclass__Self-emp-inc',\n",
       "       'workclass__Self-emp-not-inc', 'workclass__State-gov',\n",
       "       'workclass__Without-pay'],\n",
       "      dtype='object')"
      ]
     },
     "execution_count": 109,
     "metadata": {},
     "output_type": "execute_result"
    }
   ],
   "source": [
    "df.columns #checking if worked properly"
   ]
  },
  {
   "cell_type": "code",
   "execution_count": 110,
   "metadata": {},
   "outputs": [
    {
     "data": {
      "text/plain": [
       "Index(['age', 'fnlwgt', 'education-num', 'marital-status', 'occupation',\n",
       "       'relationship', 'race', 'sex_selfID', 'capital-gain', 'capital-loss',\n",
       "       'hours-per-week', 'income_binary', 'native-country_United-States',\n",
       "       'native-country_Mexico', 'native-country_Philippines',\n",
       "       'native-country_Germany', 'native-country_Puerto-Rico',\n",
       "       'native-country_Canada', 'native-country_El-Salvador',\n",
       "       'native-country_India', 'native-country_Cuba', 'native-country_England',\n",
       "       'native-country_Jamaica', 'native-country_South',\n",
       "       'native-country_China', 'native-country_Italy',\n",
       "       'native-country_Dominican-Republic', 'workclass__Federal-gov',\n",
       "       'workclass__Local-gov', 'workclass__Private', 'workclass__Self-emp-inc',\n",
       "       'workclass__Self-emp-not-inc', 'workclass__State-gov',\n",
       "       'workclass__Without-pay', 'education__10th', 'education__11th',\n",
       "       'education__12th', 'education__1st-4th', 'education__5th-6th',\n",
       "       'education__7th-8th', 'education__9th', 'education__Assoc-acdm',\n",
       "       'education__Assoc-voc', 'education__Bachelors', 'education__Doctorate',\n",
       "       'education__HS-grad', 'education__Masters', 'education__Preschool',\n",
       "       'education__Prof-school', 'education__Some-college'],\n",
       "      dtype='object')"
      ]
     },
     "execution_count": 110,
     "metadata": {},
     "output_type": "execute_result"
    }
   ],
   "source": [
    "#education\n",
    "df_education = pd.get_dummies(df['education'], prefix='education_')\n",
    "\n",
    "df = df.join(df_education)\n",
    "\n",
    "# Remove the original 'CreditRating' column from DataFrame df\n",
    "df.drop(columns = 'education', inplace=True)\n",
    "\n",
    "df.columns #checking if worked properly"
   ]
  },
  {
   "cell_type": "code",
   "execution_count": 111,
   "metadata": {},
   "outputs": [
    {
     "data": {
      "text/plain": [
       "Index(['age', 'fnlwgt', 'education-num', 'capital-gain', 'capital-loss',\n",
       "       'hours-per-week', 'income_binary', 'native-country_United-States',\n",
       "       'native-country_Mexico', 'native-country_Philippines',\n",
       "       'native-country_Germany', 'native-country_Puerto-Rico',\n",
       "       'native-country_Canada', 'native-country_El-Salvador',\n",
       "       'native-country_India', 'native-country_Cuba', 'native-country_England',\n",
       "       'native-country_Jamaica', 'native-country_South',\n",
       "       'native-country_China', 'native-country_Italy',\n",
       "       'native-country_Dominican-Republic', 'workclass__Federal-gov',\n",
       "       'workclass__Local-gov', 'workclass__Private', 'workclass__Self-emp-inc',\n",
       "       'workclass__Self-emp-not-inc', 'workclass__State-gov',\n",
       "       'workclass__Without-pay', 'education__10th', 'education__11th',\n",
       "       'education__12th', 'education__1st-4th', 'education__5th-6th',\n",
       "       'education__7th-8th', 'education__9th', 'education__Assoc-acdm',\n",
       "       'education__Assoc-voc', 'education__Bachelors', 'education__Doctorate',\n",
       "       'education__HS-grad', 'education__Masters', 'education__Preschool',\n",
       "       'education__Prof-school', 'education__Some-college',\n",
       "       'marital-status__Divorced', 'marital-status__Married-AF-spouse',\n",
       "       'marital-status__Married-civ-spouse',\n",
       "       'marital-status__Married-spouse-absent',\n",
       "       'marital-status__Never-married', 'marital-status__Separated',\n",
       "       'marital-status__Widowed', 'occupation__Adm-clerical',\n",
       "       'occupation__Armed-Forces', 'occupation__Craft-repair',\n",
       "       'occupation__Exec-managerial', 'occupation__Farming-fishing',\n",
       "       'occupation__Handlers-cleaners', 'occupation__Machine-op-inspct',\n",
       "       'occupation__Other-service', 'occupation__Priv-house-serv',\n",
       "       'occupation__Prof-specialty', 'occupation__Protective-serv',\n",
       "       'occupation__Sales', 'occupation__Tech-support',\n",
       "       'occupation__Transport-moving', 'relationship__Husband',\n",
       "       'relationship__Not-in-family', 'relationship__Other-relative',\n",
       "       'relationship__Own-child', 'relationship__Unmarried',\n",
       "       'relationship__Wife', 'race__Amer-Indian-Inuit',\n",
       "       'race__Asian-Pac-Islander', 'race__Black', 'race__Other', 'race__White',\n",
       "       'sex_selfID __Female', 'sex_selfID __Non-Female'],\n",
       "      dtype='object')"
      ]
     },
     "execution_count": 111,
     "metadata": {},
     "output_type": "execute_result"
    }
   ],
   "source": [
    "#marital-status     7\n",
    "df_maritalStatus = pd.get_dummies(df['marital-status'], prefix='marital-status_')\n",
    "df = df.join(df_maritalStatus)\n",
    "df.drop(columns = 'marital-status', inplace=True)\n",
    "\n",
    "#occupation        14\n",
    "df_occupation = pd.get_dummies(df['occupation'], prefix='occupation_')\n",
    "df = df.join(df_occupation)\n",
    "df.drop(columns = 'occupation', inplace=True)\n",
    "\n",
    "#relationship       6\n",
    "df_relationship = pd.get_dummies(df['relationship'], prefix='relationship_')\n",
    "df = df.join(df_relationship)\n",
    "df.drop(columns = 'relationship', inplace=True)\n",
    "\n",
    "#race               5\n",
    "df_race = pd.get_dummies(df['race'], prefix='race_')\n",
    "df = df.join(df_race)\n",
    "df.drop(columns = 'race', inplace=True)\n",
    "\n",
    "#sex_selfID         2\n",
    "df_sex_selfID = pd.get_dummies(df['sex_selfID'], prefix='sex_selfID _')\n",
    "df = df.join(df_sex_selfID )\n",
    "df.drop(columns = 'sex_selfID', inplace=True)\n",
    "\n",
    "df.columns"
   ]
  },
  {
   "cell_type": "code",
   "execution_count": 112,
   "metadata": {},
   "outputs": [
    {
     "data": {
      "text/plain": [
       "income_binary                         1.000000\n",
       "marital-status__Married-civ-spouse    0.445283\n",
       "relationship__Husband                 0.400821\n",
       "capital-gain                          0.344562\n",
       "education-num                         0.335094\n",
       "                                        ...   \n",
       "occupation__Other-service            -0.165513\n",
       "relationship__Not-in-family          -0.193098\n",
       "sex_selfID __Female                  -0.216267\n",
       "relationship__Own-child              -0.226255\n",
       "marital-status__Never-married        -0.320415\n",
       "Name: income_binary, Length: 79, dtype: float64"
      ]
     },
     "execution_count": 112,
     "metadata": {},
     "output_type": "execute_result"
    }
   ],
   "source": [
    "df['income_binary'] = df['income_binary'].map({'<=50K': 0, '>50K': 1})\n",
    "df['income_binary'] = df['income_binary'].astype(int) #corr only works with numerical numbesr \n",
    "\n",
    "df.corr()['income_binary'].sort_values(ascending=False)"
   ]
  },
  {
   "cell_type": "code",
   "execution_count": 113,
   "metadata": {},
   "outputs": [],
   "source": [
    "X = df[['age', 'education-num', 'capital-gain', 'hours-per-week']]\n",
    "y = df['income_binary']"
   ]
  },
  {
   "cell_type": "code",
   "execution_count": 114,
   "metadata": {},
   "outputs": [
    {
     "data": {
      "image/png": "[encoded data removed]",
      "text/plain": [
       "<Figure size 1200x1000 with 4 Axes>"
      ]
     },
     "metadata": {},
     "output_type": "display_data"
    }
   ],
   "source": [
    "import matplotlib.pyplot as plt\n",
    "#compare to identify any outliers\n",
    "X.hist(bins=50, figsize=(12,10))\n",
    "plt.tight_layout()\n",
    "plt.show()"
   ]
  },
  {
   "cell_type": "code",
   "execution_count": 115,
   "metadata": {},
   "outputs": [
    {
     "data": {
      "text/html": [
       "<div>\n",
       "<style scoped>\n",
       "    .dataframe tbody tr th:only-of-type {\n",
       "        vertical-align: middle;\n",
       "    }\n",
       "\n",
       "    .dataframe tbody tr th {\n",
       "        vertical-align: top;\n",
       "    }\n",
       "\n",
       "    .dataframe thead th {\n",
       "        text-align: right;\n",
       "    }\n",
       "</style>\n",
       "<table border=\"1\" class=\"dataframe\">\n",
       "  <thead>\n",
       "    <tr style=\"text-align: right;\">\n",
       "      <th></th>\n",
       "      <th>age</th>\n",
       "      <th>education-num</th>\n",
       "      <th>capital-gain</th>\n",
       "      <th>hours-per-week</th>\n",
       "    </tr>\n",
       "  </thead>\n",
       "  <tbody>\n",
       "    <tr>\n",
       "      <th>count</th>\n",
       "      <td>29716.000000</td>\n",
       "      <td>29716.000000</td>\n",
       "      <td>29716.000000</td>\n",
       "      <td>29716.000000</td>\n",
       "    </tr>\n",
       "    <tr>\n",
       "      <th>mean</th>\n",
       "      <td>38.442994</td>\n",
       "      <td>10.123671</td>\n",
       "      <td>628.524027</td>\n",
       "      <td>40.942018</td>\n",
       "    </tr>\n",
       "    <tr>\n",
       "      <th>std</th>\n",
       "      <td>13.137887</td>\n",
       "      <td>2.550625</td>\n",
       "      <td>2447.793868</td>\n",
       "      <td>11.995399</td>\n",
       "    </tr>\n",
       "    <tr>\n",
       "      <th>min</th>\n",
       "      <td>17.000000</td>\n",
       "      <td>1.000000</td>\n",
       "      <td>0.000000</td>\n",
       "      <td>1.000000</td>\n",
       "    </tr>\n",
       "    <tr>\n",
       "      <th>25%</th>\n",
       "      <td>28.000000</td>\n",
       "      <td>9.000000</td>\n",
       "      <td>0.000000</td>\n",
       "      <td>40.000000</td>\n",
       "    </tr>\n",
       "    <tr>\n",
       "      <th>50%</th>\n",
       "      <td>37.000000</td>\n",
       "      <td>10.000000</td>\n",
       "      <td>0.000000</td>\n",
       "      <td>40.000000</td>\n",
       "    </tr>\n",
       "    <tr>\n",
       "      <th>75%</th>\n",
       "      <td>47.000000</td>\n",
       "      <td>13.000000</td>\n",
       "      <td>0.000000</td>\n",
       "      <td>45.000000</td>\n",
       "    </tr>\n",
       "    <tr>\n",
       "      <th>max</th>\n",
       "      <td>90.000000</td>\n",
       "      <td>16.000000</td>\n",
       "      <td>14084.000000</td>\n",
       "      <td>99.000000</td>\n",
       "    </tr>\n",
       "  </tbody>\n",
       "</table>\n",
       "</div>"
      ],
      "text/plain": [
       "                age  education-num  capital-gain  hours-per-week\n",
       "count  29716.000000   29716.000000  29716.000000    29716.000000\n",
       "mean      38.442994      10.123671    628.524027       40.942018\n",
       "std       13.137887       2.550625   2447.793868       11.995399\n",
       "min       17.000000       1.000000      0.000000        1.000000\n",
       "25%       28.000000       9.000000      0.000000       40.000000\n",
       "50%       37.000000      10.000000      0.000000       40.000000\n",
       "75%       47.000000      13.000000      0.000000       45.000000\n",
       "max       90.000000      16.000000  14084.000000       99.000000"
      ]
     },
     "execution_count": 115,
     "metadata": {},
     "output_type": "execute_result"
    }
   ],
   "source": [
    "X.describe()"
   ]
  },
  {
   "cell_type": "code",
   "execution_count": 116,
   "metadata": {},
   "outputs": [],
   "source": [
    "#winsorization for outliers\n",
    "from scipy.stats.mstats import winsorize\n",
    "\n",
    "winsor_cols = ['age', 'education-num', 'capital-gain', 'hours-per-week']\n",
    "\n",
    "for col in winsor_cols:\n",
    "    df[col] = winsorize(df[col], limits=[0.01, 0.01])\n"
   ]
  },
  {
   "cell_type": "code",
   "execution_count": 117,
   "metadata": {
    "scrolled": true
   },
   "outputs": [
    {
     "data": {
      "text/html": [
       "<div>\n",
       "<style scoped>\n",
       "    .dataframe tbody tr th:only-of-type {\n",
       "        vertical-align: middle;\n",
       "    }\n",
       "\n",
       "    .dataframe tbody tr th {\n",
       "        vertical-align: top;\n",
       "    }\n",
       "\n",
       "    .dataframe thead th {\n",
       "        text-align: right;\n",
       "    }\n",
       "</style>\n",
       "<table border=\"1\" class=\"dataframe\">\n",
       "  <thead>\n",
       "    <tr style=\"text-align: right;\">\n",
       "      <th></th>\n",
       "      <th>age</th>\n",
       "      <th>fnlwgt</th>\n",
       "      <th>education-num</th>\n",
       "      <th>capital-gain</th>\n",
       "      <th>capital-loss</th>\n",
       "      <th>hours-per-week</th>\n",
       "      <th>income_binary</th>\n",
       "      <th>native-country_United-States</th>\n",
       "      <th>native-country_Mexico</th>\n",
       "      <th>native-country_Philippines</th>\n",
       "      <th>...</th>\n",
       "      <th>relationship__Own-child</th>\n",
       "      <th>relationship__Unmarried</th>\n",
       "      <th>relationship__Wife</th>\n",
       "      <th>race__Amer-Indian-Inuit</th>\n",
       "      <th>race__Asian-Pac-Islander</th>\n",
       "      <th>race__Black</th>\n",
       "      <th>race__Other</th>\n",
       "      <th>race__White</th>\n",
       "      <th>sex_selfID __Female</th>\n",
       "      <th>sex_selfID __Non-Female</th>\n",
       "    </tr>\n",
       "  </thead>\n",
       "  <tbody>\n",
       "    <tr>\n",
       "      <th>0</th>\n",
       "      <td>39.0</td>\n",
       "      <td>77516</td>\n",
       "      <td>13</td>\n",
       "      <td>2174</td>\n",
       "      <td>0</td>\n",
       "      <td>40.0</td>\n",
       "      <td>0</td>\n",
       "      <td>1</td>\n",
       "      <td>0</td>\n",
       "      <td>0</td>\n",
       "      <td>...</td>\n",
       "      <td>0</td>\n",
       "      <td>0</td>\n",
       "      <td>0</td>\n",
       "      <td>0</td>\n",
       "      <td>0</td>\n",
       "      <td>0</td>\n",
       "      <td>0</td>\n",
       "      <td>1</td>\n",
       "      <td>0</td>\n",
       "      <td>1</td>\n",
       "    </tr>\n",
       "    <tr>\n",
       "      <th>1</th>\n",
       "      <td>50.0</td>\n",
       "      <td>83311</td>\n",
       "      <td>13</td>\n",
       "      <td>0</td>\n",
       "      <td>0</td>\n",
       "      <td>13.0</td>\n",
       "      <td>0</td>\n",
       "      <td>1</td>\n",
       "      <td>0</td>\n",
       "      <td>0</td>\n",
       "      <td>...</td>\n",
       "      <td>0</td>\n",
       "      <td>0</td>\n",
       "      <td>0</td>\n",
       "      <td>0</td>\n",
       "      <td>0</td>\n",
       "      <td>0</td>\n",
       "      <td>0</td>\n",
       "      <td>1</td>\n",
       "      <td>0</td>\n",
       "      <td>1</td>\n",
       "    </tr>\n",
       "    <tr>\n",
       "      <th>2</th>\n",
       "      <td>38.0</td>\n",
       "      <td>215646</td>\n",
       "      <td>9</td>\n",
       "      <td>0</td>\n",
       "      <td>0</td>\n",
       "      <td>40.0</td>\n",
       "      <td>0</td>\n",
       "      <td>1</td>\n",
       "      <td>0</td>\n",
       "      <td>0</td>\n",
       "      <td>...</td>\n",
       "      <td>0</td>\n",
       "      <td>0</td>\n",
       "      <td>0</td>\n",
       "      <td>0</td>\n",
       "      <td>0</td>\n",
       "      <td>0</td>\n",
       "      <td>0</td>\n",
       "      <td>1</td>\n",
       "      <td>0</td>\n",
       "      <td>1</td>\n",
       "    </tr>\n",
       "    <tr>\n",
       "      <th>3</th>\n",
       "      <td>53.0</td>\n",
       "      <td>234721</td>\n",
       "      <td>7</td>\n",
       "      <td>0</td>\n",
       "      <td>0</td>\n",
       "      <td>40.0</td>\n",
       "      <td>0</td>\n",
       "      <td>1</td>\n",
       "      <td>0</td>\n",
       "      <td>0</td>\n",
       "      <td>...</td>\n",
       "      <td>0</td>\n",
       "      <td>0</td>\n",
       "      <td>0</td>\n",
       "      <td>0</td>\n",
       "      <td>0</td>\n",
       "      <td>1</td>\n",
       "      <td>0</td>\n",
       "      <td>0</td>\n",
       "      <td>0</td>\n",
       "      <td>1</td>\n",
       "    </tr>\n",
       "    <tr>\n",
       "      <th>4</th>\n",
       "      <td>28.0</td>\n",
       "      <td>338409</td>\n",
       "      <td>13</td>\n",
       "      <td>0</td>\n",
       "      <td>0</td>\n",
       "      <td>40.0</td>\n",
       "      <td>0</td>\n",
       "      <td>0</td>\n",
       "      <td>0</td>\n",
       "      <td>0</td>\n",
       "      <td>...</td>\n",
       "      <td>0</td>\n",
       "      <td>0</td>\n",
       "      <td>1</td>\n",
       "      <td>0</td>\n",
       "      <td>0</td>\n",
       "      <td>1</td>\n",
       "      <td>0</td>\n",
       "      <td>0</td>\n",
       "      <td>1</td>\n",
       "      <td>0</td>\n",
       "    </tr>\n",
       "    <tr>\n",
       "      <th>5</th>\n",
       "      <td>37.0</td>\n",
       "      <td>284582</td>\n",
       "      <td>14</td>\n",
       "      <td>0</td>\n",
       "      <td>0</td>\n",
       "      <td>40.0</td>\n",
       "      <td>0</td>\n",
       "      <td>1</td>\n",
       "      <td>0</td>\n",
       "      <td>0</td>\n",
       "      <td>...</td>\n",
       "      <td>0</td>\n",
       "      <td>0</td>\n",
       "      <td>1</td>\n",
       "      <td>0</td>\n",
       "      <td>0</td>\n",
       "      <td>0</td>\n",
       "      <td>0</td>\n",
       "      <td>1</td>\n",
       "      <td>1</td>\n",
       "      <td>0</td>\n",
       "    </tr>\n",
       "    <tr>\n",
       "      <th>6</th>\n",
       "      <td>49.0</td>\n",
       "      <td>160187</td>\n",
       "      <td>5</td>\n",
       "      <td>0</td>\n",
       "      <td>0</td>\n",
       "      <td>16.0</td>\n",
       "      <td>0</td>\n",
       "      <td>0</td>\n",
       "      <td>0</td>\n",
       "      <td>0</td>\n",
       "      <td>...</td>\n",
       "      <td>0</td>\n",
       "      <td>0</td>\n",
       "      <td>0</td>\n",
       "      <td>0</td>\n",
       "      <td>0</td>\n",
       "      <td>1</td>\n",
       "      <td>0</td>\n",
       "      <td>0</td>\n",
       "      <td>1</td>\n",
       "      <td>0</td>\n",
       "    </tr>\n",
       "    <tr>\n",
       "      <th>7</th>\n",
       "      <td>52.0</td>\n",
       "      <td>209642</td>\n",
       "      <td>9</td>\n",
       "      <td>0</td>\n",
       "      <td>0</td>\n",
       "      <td>45.0</td>\n",
       "      <td>1</td>\n",
       "      <td>1</td>\n",
       "      <td>0</td>\n",
       "      <td>0</td>\n",
       "      <td>...</td>\n",
       "      <td>0</td>\n",
       "      <td>0</td>\n",
       "      <td>0</td>\n",
       "      <td>0</td>\n",
       "      <td>0</td>\n",
       "      <td>0</td>\n",
       "      <td>0</td>\n",
       "      <td>1</td>\n",
       "      <td>0</td>\n",
       "      <td>1</td>\n",
       "    </tr>\n",
       "    <tr>\n",
       "      <th>8</th>\n",
       "      <td>31.0</td>\n",
       "      <td>45781</td>\n",
       "      <td>14</td>\n",
       "      <td>14084</td>\n",
       "      <td>0</td>\n",
       "      <td>50.0</td>\n",
       "      <td>1</td>\n",
       "      <td>1</td>\n",
       "      <td>0</td>\n",
       "      <td>0</td>\n",
       "      <td>...</td>\n",
       "      <td>0</td>\n",
       "      <td>0</td>\n",
       "      <td>0</td>\n",
       "      <td>0</td>\n",
       "      <td>0</td>\n",
       "      <td>0</td>\n",
       "      <td>0</td>\n",
       "      <td>1</td>\n",
       "      <td>1</td>\n",
       "      <td>0</td>\n",
       "    </tr>\n",
       "    <tr>\n",
       "      <th>9</th>\n",
       "      <td>42.0</td>\n",
       "      <td>159449</td>\n",
       "      <td>13</td>\n",
       "      <td>5178</td>\n",
       "      <td>0</td>\n",
       "      <td>40.0</td>\n",
       "      <td>1</td>\n",
       "      <td>1</td>\n",
       "      <td>0</td>\n",
       "      <td>0</td>\n",
       "      <td>...</td>\n",
       "      <td>0</td>\n",
       "      <td>0</td>\n",
       "      <td>0</td>\n",
       "      <td>0</td>\n",
       "      <td>0</td>\n",
       "      <td>0</td>\n",
       "      <td>0</td>\n",
       "      <td>1</td>\n",
       "      <td>0</td>\n",
       "      <td>1</td>\n",
       "    </tr>\n",
       "    <tr>\n",
       "      <th>10</th>\n",
       "      <td>37.0</td>\n",
       "      <td>280464</td>\n",
       "      <td>10</td>\n",
       "      <td>0</td>\n",
       "      <td>0</td>\n",
       "      <td>80.0</td>\n",
       "      <td>1</td>\n",
       "      <td>1</td>\n",
       "      <td>0</td>\n",
       "      <td>0</td>\n",
       "      <td>...</td>\n",
       "      <td>0</td>\n",
       "      <td>0</td>\n",
       "      <td>0</td>\n",
       "      <td>0</td>\n",
       "      <td>0</td>\n",
       "      <td>1</td>\n",
       "      <td>0</td>\n",
       "      <td>0</td>\n",
       "      <td>0</td>\n",
       "      <td>1</td>\n",
       "    </tr>\n",
       "    <tr>\n",
       "      <th>11</th>\n",
       "      <td>30.0</td>\n",
       "      <td>141297</td>\n",
       "      <td>13</td>\n",
       "      <td>0</td>\n",
       "      <td>0</td>\n",
       "      <td>40.0</td>\n",
       "      <td>1</td>\n",
       "      <td>0</td>\n",
       "      <td>0</td>\n",
       "      <td>0</td>\n",
       "      <td>...</td>\n",
       "      <td>0</td>\n",
       "      <td>0</td>\n",
       "      <td>0</td>\n",
       "      <td>0</td>\n",
       "      <td>1</td>\n",
       "      <td>0</td>\n",
       "      <td>0</td>\n",
       "      <td>0</td>\n",
       "      <td>0</td>\n",
       "      <td>1</td>\n",
       "    </tr>\n",
       "    <tr>\n",
       "      <th>12</th>\n",
       "      <td>23.0</td>\n",
       "      <td>122272</td>\n",
       "      <td>13</td>\n",
       "      <td>0</td>\n",
       "      <td>0</td>\n",
       "      <td>30.0</td>\n",
       "      <td>0</td>\n",
       "      <td>1</td>\n",
       "      <td>0</td>\n",
       "      <td>0</td>\n",
       "      <td>...</td>\n",
       "      <td>1</td>\n",
       "      <td>0</td>\n",
       "      <td>0</td>\n",
       "      <td>0</td>\n",
       "      <td>0</td>\n",
       "      <td>0</td>\n",
       "      <td>0</td>\n",
       "      <td>1</td>\n",
       "      <td>1</td>\n",
       "      <td>0</td>\n",
       "    </tr>\n",
       "    <tr>\n",
       "      <th>13</th>\n",
       "      <td>32.0</td>\n",
       "      <td>205019</td>\n",
       "      <td>12</td>\n",
       "      <td>0</td>\n",
       "      <td>0</td>\n",
       "      <td>50.0</td>\n",
       "      <td>0</td>\n",
       "      <td>1</td>\n",
       "      <td>0</td>\n",
       "      <td>0</td>\n",
       "      <td>...</td>\n",
       "      <td>0</td>\n",
       "      <td>0</td>\n",
       "      <td>0</td>\n",
       "      <td>0</td>\n",
       "      <td>0</td>\n",
       "      <td>1</td>\n",
       "      <td>0</td>\n",
       "      <td>0</td>\n",
       "      <td>0</td>\n",
       "      <td>1</td>\n",
       "    </tr>\n",
       "    <tr>\n",
       "      <th>15</th>\n",
       "      <td>34.0</td>\n",
       "      <td>245487</td>\n",
       "      <td>4</td>\n",
       "      <td>0</td>\n",
       "      <td>0</td>\n",
       "      <td>45.0</td>\n",
       "      <td>0</td>\n",
       "      <td>0</td>\n",
       "      <td>1</td>\n",
       "      <td>0</td>\n",
       "      <td>...</td>\n",
       "      <td>0</td>\n",
       "      <td>0</td>\n",
       "      <td>0</td>\n",
       "      <td>1</td>\n",
       "      <td>0</td>\n",
       "      <td>0</td>\n",
       "      <td>0</td>\n",
       "      <td>0</td>\n",
       "      <td>0</td>\n",
       "      <td>1</td>\n",
       "    </tr>\n",
       "  </tbody>\n",
       "</table>\n",
       "<p>15 rows × 79 columns</p>\n",
       "</div>"
      ],
      "text/plain": [
       "     age  fnlwgt  education-num  capital-gain  capital-loss  hours-per-week  \\\n",
       "0   39.0   77516             13          2174             0            40.0   \n",
       "1   50.0   83311             13             0             0            13.0   \n",
       "2   38.0  215646              9             0             0            40.0   \n",
       "3   53.0  234721              7             0             0            40.0   \n",
       "4   28.0  338409             13             0             0            40.0   \n",
       "5   37.0  284582             14             0             0            40.0   \n",
       "6   49.0  160187              5             0             0            16.0   \n",
       "7   52.0  209642              9             0             0            45.0   \n",
       "8   31.0   45781             14         14084             0            50.0   \n",
       "9   42.0  159449             13          5178             0            40.0   \n",
       "10  37.0  280464             10             0             0            80.0   \n",
       "11  30.0  141297             13             0             0            40.0   \n",
       "12  23.0  122272             13             0             0            30.0   \n",
       "13  32.0  205019             12             0             0            50.0   \n",
       "15  34.0  245487              4             0             0            45.0   \n",
       "\n",
       "    income_binary  native-country_United-States  native-country_Mexico  \\\n",
       "0               0                             1                      0   \n",
       "1               0                             1                      0   \n",
       "2               0                             1                      0   \n",
       "3               0                             1                      0   \n",
       "4               0                             0                      0   \n",
       "5               0                             1                      0   \n",
       "6               0                             0                      0   \n",
       "7               1                             1                      0   \n",
       "8               1                             1                      0   \n",
       "9               1                             1                      0   \n",
       "10              1                             1                      0   \n",
       "11              1                             0                      0   \n",
       "12              0                             1                      0   \n",
       "13              0                             1                      0   \n",
       "15              0                             0                      1   \n",
       "\n",
       "    native-country_Philippines  ...  relationship__Own-child  \\\n",
       "0                            0  ...                        0   \n",
       "1                            0  ...                        0   \n",
       "2                            0  ...                        0   \n",
       "3                            0  ...                        0   \n",
       "4                            0  ...                        0   \n",
       "5                            0  ...                        0   \n",
       "6                            0  ...                        0   \n",
       "7                            0  ...                        0   \n",
       "8                            0  ...                        0   \n",
       "9                            0  ...                        0   \n",
       "10                           0  ...                        0   \n",
       "11                           0  ...                        0   \n",
       "12                           0  ...                        1   \n",
       "13                           0  ...                        0   \n",
       "15                           0  ...                        0   \n",
       "\n",
       "    relationship__Unmarried  relationship__Wife  race__Amer-Indian-Inuit  \\\n",
       "0                         0                   0                        0   \n",
       "1                         0                   0                        0   \n",
       "2                         0                   0                        0   \n",
       "3                         0                   0                        0   \n",
       "4                         0                   1                        0   \n",
       "5                         0                   1                        0   \n",
       "6                         0                   0                        0   \n",
       "7                         0                   0                        0   \n",
       "8                         0                   0                        0   \n",
       "9                         0                   0                        0   \n",
       "10                        0                   0                        0   \n",
       "11                        0                   0                        0   \n",
       "12                        0                   0                        0   \n",
       "13                        0                   0                        0   \n",
       "15                        0                   0                        1   \n",
       "\n",
       "    race__Asian-Pac-Islander  race__Black  race__Other  race__White  \\\n",
       "0                          0            0            0            1   \n",
       "1                          0            0            0            1   \n",
       "2                          0            0            0            1   \n",
       "3                          0            1            0            0   \n",
       "4                          0            1            0            0   \n",
       "5                          0            0            0            1   \n",
       "6                          0            1            0            0   \n",
       "7                          0            0            0            1   \n",
       "8                          0            0            0            1   \n",
       "9                          0            0            0            1   \n",
       "10                         0            1            0            0   \n",
       "11                         1            0            0            0   \n",
       "12                         0            0            0            1   \n",
       "13                         0            1            0            0   \n",
       "15                         0            0            0            0   \n",
       "\n",
       "    sex_selfID __Female  sex_selfID __Non-Female  \n",
       "0                     0                        1  \n",
       "1                     0                        1  \n",
       "2                     0                        1  \n",
       "3                     0                        1  \n",
       "4                     1                        0  \n",
       "5                     1                        0  \n",
       "6                     1                        0  \n",
       "7                     0                        1  \n",
       "8                     1                        0  \n",
       "9                     0                        1  \n",
       "10                    0                        1  \n",
       "11                    0                        1  \n",
       "12                    1                        0  \n",
       "13                    0                        1  \n",
       "15                    0                        1  \n",
       "\n",
       "[15 rows x 79 columns]"
      ]
     },
     "execution_count": 117,
     "metadata": {},
     "output_type": "execute_result"
    }
   ],
   "source": [
    "df.head(15)"
   ]
  },
  {
   "cell_type": "code",
   "execution_count": 118,
   "metadata": {},
   "outputs": [
    {
     "name": "stdout",
     "output_type": "stream",
     "text": [
      "\n",
      "age unique values:\n",
      "[39. 50. 38. 53. 28. 37. 49. 52. 31. 42. 30. 23. 32. 34. 25. 43. 40. 54.\n",
      " 35. 56. 19. 20. 45. 22. 48. 21. 24. 57. 44. 41. 29. 47. 46. 36. 72. 27.\n",
      " 18. 59. 33. 55. 61. 70. 64. 71. 66. 51. 58. 26. 17. 60. 65. 62. 63. 67.\n",
      " 69. 68.]\n",
      "\n",
      "education-num unique values:\n",
      "[13  9  7 14  5 10 12  4 16 11 15  3  6  8]\n",
      "\n",
      "capital-gain unique values:\n",
      "[ 2174     0 14084  5178  5013  2407  7688  4064  4386  7298  1409  3674\n",
      "  1055  2050  2176   594  6849  4101  8614  3411  2597  4650  2463  3103\n",
      " 10605  2964  3325  2580  3471  4865  6514  1471  2329  2105  2885 10520\n",
      "  2202  2961  6767  2228  1506 13550  2635  5556  4787  3781  3137  3818\n",
      "   914   401  2829  2977  4934  2062  2354  3464  5455  1424  3273  4416\n",
      " 10566  4931  7430  6497  3908   114  2346  2907  1151  9386  2414  2290\n",
      "  3418  4508  2538  3456  1848  3887  7896  5721  9562  6418  1455  2036\n",
      "  3942  1831 11678  2936  2993  7443  6360  4687  1797  6723  2009  3432\n",
      "  6097  1639  2653   991  1173  2387  5060  1086]\n",
      "\n",
      "hours-per-week unique values:\n",
      "[40. 13. 16. 45. 50. 80. 30. 35. 60. 20. 52. 44. 15. 25. 43. 38. 55. 48.\n",
      " 58. 32. 70. 22. 56. 28. 36. 24. 46. 10. 42. 12. 65. 34. 75. 33. 54. 64.\n",
      " 19. 18. 72. 47. 37. 21. 26. 14. 53. 39. 62. 59. 57. 41. 78. 66. 11. 49.\n",
      " 17. 68. 27. 31. 51. 77. 63. 23. 73. 29. 67. 76. 61. 74.]\n"
     ]
    }
   ],
   "source": [
    "#check for unique values to see if winsorization worked\n",
    "for col in ['age', 'education-num', 'capital-gain', 'hours-per-week']:\n",
    "    print(f\"\\n{col} unique values:\")\n",
    "    print(df[col].unique())\n"
   ]
  },
  {
   "cell_type": "markdown",
   "metadata": {},
   "source": [
    "## Part 4: Define Your Project Plan\n",
    "\n",
    "Now that you understand your data, in the markdown cell below, define your plan to implement the remaining phases of the machine learning life cycle (data preparation, modeling, evaluation) to solve your ML problem. Answer the following questions:\n",
    "\n",
    "* Do you have a new feature list? If so, what are the features that you chose to keep and remove after inspecting the data? \n",
    "* Explain different data preparation techniques that you will use to prepare your data for modeling.\n",
    "* What is your model (or models)?\n",
    "* Describe your plan to train your model, analyze its performance and then improve the model. That is, describe your model building, validation and selection plan to produce a model that generalizes well to new data. "
   ]
  },
  {
   "cell_type": "markdown",
   "metadata": {},
   "source": [
    "After inspecting the dataset, I removed any entries with missing values and dropped features that showed low correlation with the income label. As a result, I now have a new feature list. The most impactful features identified for modeling are: age, hours-per-week, capital gain, and education-num.\n",
    "\n",
    "To prepare the data for modeling, I applied one-hot encoding to convert categorical features into numerical format, which allowed me to evaluate correlation more effectively. Additionally, I used winsorization to address any potential outliers on the remaining four key features to reduce the influence of outliers and stabilize model training.\n",
    "\n",
    "For modeling, I plan to use both Random Forest and Logistic Regression. The first model I will traub will be the Random Forest classifier, and I’ll use GridSearchCV to fine-tune hyperparameters and maximize performance. I’ll also train a Logistic Regression model to compare its accuracy with the Random Forest approach.\n",
    "\n",
    "To evaluate and improve the models, I’ll split the data into training and validation sets. After initial training, I’ll analyze performance metrics such as accuracy and AUC. Based on the results, I’ll adjust model parameters and compare across both models to select the one that generalizes best to unseen data."
   ]
  },
  {
   "cell_type": "markdown",
   "metadata": {},
   "source": [
    "## Part 5: Implement Your Project Plan\n",
    "\n",
    "<b>Task:</b> In the code cell below, import additional packages that you have used in this course that you will need to implement your project plan."
   ]
  },
  {
   "cell_type": "code",
   "execution_count": 147,
   "metadata": {},
   "outputs": [],
   "source": [
    "from sklearn.ensemble import RandomForestClassifier\n",
    "from sklearn.model_selection import train_test_split\n",
    "from sklearn.metrics import roc_curve, auc, accuracy_score, log_loss\n",
    "\n",
    "from sklearn.model_selection import RandomizedSearchCV\n",
    "from sklearn.model_selection import GridSearchCV\n",
    "\n",
    "from sklearn.linear_model import LogisticRegression\n",
    "from sklearn.preprocessing import StandardScaler\n",
    "\n",
    "from sklearn.model_selection import validation_curve\n",
    "\n",
    "from scipy.stats import randint\n"
   ]
  },
  {
   "cell_type": "markdown",
   "metadata": {},
   "source": [
    "<b>Task:</b> Use the rest of this notebook to carry out your project plan. \n",
    "\n",
    "You will:\n",
    "\n",
    "1. Prepare your data for your model.\n",
    "2. Fit your model to the training data and evaluate your model.\n",
    "3. Improve your model's performance by performing model selection and/or feature selection techniques to find best model for your problem.\n",
    "\n",
    "Add code cells below and populate the notebook with commentary, code, analyses, results, and figures as you see fit. "
   ]
  },
  {
   "cell_type": "markdown",
   "metadata": {},
   "source": [
    "## Random Forest Models"
   ]
  },
  {
   "cell_type": "code",
   "execution_count": 120,
   "metadata": {},
   "outputs": [],
   "source": [
    "X_train, X_test, y_train, y_test = train_test_split(X, y, test_size=0.33, random_state=1234)"
   ]
  },
  {
   "cell_type": "code",
   "execution_count": 121,
   "metadata": {},
   "outputs": [
    {
     "name": "stdout",
     "output_type": "stream",
     "text": [
      "Begin Random Forest Implementation...\n",
      "End\n"
     ]
    }
   ],
   "source": [
    "print('Begin Random Forest Implementation...')\n",
    "#1st random forest classifier of 20 trees\n",
    "rf_20_model = RandomForestClassifier(criterion='entropy', n_estimators=20)\n",
    "rf_20_model.fit(X_train, y_train)\n",
    "\n",
    "#predictions on the test data using the predict_proba() \n",
    "rf_20_preds = rf_20_model.predict_proba(X_test)\n",
    "rf_20_predictions = list(rf_20_preds[:, -1])\n",
    "\n",
    "#accuracy of rf_20\n",
    "rf_20_labels = rf_20_model.predict(X_test)\n",
    "acc_20 = accuracy_score(y_test, rf_20_labels)\n",
    "\n",
    "#2nd random forest classifier with 100 trees\n",
    "rf_100_model = RandomForestClassifier(criterion='entropy', n_estimators=100)\n",
    "rf_100_model.fit(X_train, y_train)\n",
    "\n",
    "rf_100_preds = rf_100_model.predict_proba(X_test)\n",
    "rf_100_predictions = list(rf_100_preds[:, -1])\n",
    "\n",
    "#accuracy of rf_100\n",
    "rf_100_labels = rf_100_model.predict(X_test)\n",
    "acc_100 = accuracy_score(y_test, rf_100_labels)\n",
    "\n",
    "print('End')"
   ]
  },
  {
   "cell_type": "code",
   "execution_count": 122,
   "metadata": {},
   "outputs": [
    {
     "name": "stdout",
     "output_type": "stream",
     "text": [
      "Computing ROC Curve...\n",
      "End\n"
     ]
    }
   ],
   "source": [
    "print('Computing ROC Curve...')\n",
    "\n",
    "#roc_curve to record fpr and tpr for rf_20_model\n",
    "fpr_20, tpr_20, thresholds_20 = roc_curve(y_test, rf_20_predictions)\n",
    "\n",
    "#roc_curve to record fpr and tpr for rf_100_model\n",
    "fpr_100, tpr_100, thresholds_100 = roc_curve(y_test, rf_100_predictions)\n",
    "\n",
    "print('End')"
   ]
  },
  {
   "cell_type": "code",
   "execution_count": 123,
   "metadata": {},
   "outputs": [
    {
     "name": "stdout",
     "output_type": "stream",
     "text": [
      "AUC of the RF model with 20 estimators is 0.805\n",
      "AUC of the RF model with 100 estimators is 0.811\n"
     ]
    }
   ],
   "source": [
    "# AUC for rf_20_model\n",
    "auc_20 = auc(fpr_20, tpr_20)\n",
    "print(\"AUC of the RF model with 20 estimators is {:.3f}\".format(auc_20))\n",
    "\n",
    "# AUC for rf_100_model\n",
    "auc_100 = auc(fpr_100, tpr_100)\n",
    "print(\"AUC of the RF model with 100 estimators is {:.3f}\".format(auc_100))"
   ]
  },
  {
   "cell_type": "code",
   "execution_count": 124,
   "metadata": {},
   "outputs": [
    {
     "name": "stdout",
     "output_type": "stream",
     "text": [
      "Running Grid Search...\n",
      "Done\n",
      "Optimal hyperparameters: {'criterion': 'gini', 'max_depth': 8, 'min_samples_leaf': 25}\n",
      "AUC: 0.8434044213186744\n"
     ]
    }
   ],
   "source": [
    "hyperparams_depth = [2**n for n in range(2,9)]\n",
    "\n",
    "hyperparams_leaf = [25*2**n for n in range(0,3)]\n",
    "\n",
    "hyperparam_crit = ['gini', 'entropy']\n",
    "\n",
    "#creating parameter grid.\n",
    "param_grid={'max_depth':hyperparams_depth, 'min_samples_leaf':hyperparams_leaf, 'criterion': hyperparam_crit}\n",
    "\n",
    "print('Running Grid Search...')\n",
    "\n",
    "model = RandomForestClassifier()\n",
    " \n",
    "#grid Search with 5-fold cross-validation using the model.\n",
    "grid = GridSearchCV(model, param_grid, cv=5, scoring = 'roc_auc')\n",
    "\n",
    "grid_search = grid.fit(X_train, y_train)\n",
    "\n",
    "print('Done')\n",
    "\n",
    "#best-performing hyperparameter configuration\n",
    "print('Optimal hyperparameters: {0}'.format(grid_search.best_params_))\n",
    "\n",
    "#best accuracy score resulting from this configuration\n",
    "print('AUC: {0}'.format(grid_search.best_score_))"
   ]
  },
  {
   "cell_type": "code",
   "execution_count": 125,
   "metadata": {},
   "outputs": [
    {
     "data": {
      "image/png": "[encoded data removed]",
      "text/plain": [
       "<Figure size 640x480 with 1 Axes>"
      ]
     },
     "metadata": {},
     "output_type": "display_data"
    }
   ],
   "source": [
    "#range of estimators to test\n",
    "param_range = [10, 50, 100, 200, 300]\n",
    "\n",
    "# Use best hyperparams\n",
    "model = RandomForestClassifier(\n",
    "    max_depth=grid_search.best_params_['max_depth'],\n",
    "    min_samples_leaf=grid_search.best_params_['min_samples_leaf'],\n",
    "    criterion=grid_search.best_params_['criterion'],\n",
    "    random_state=1234\n",
    ")\n",
    "\n",
    "#validation curve\n",
    "train_scores, test_scores = validation_curve(\n",
    "    model, X_train, y_train,\n",
    "    param_name='n_estimators',\n",
    "    param_range=param_range,\n",
    "    cv=5,\n",
    "    scoring='roc_auc'\n",
    ")\n",
    "\n",
    "#computing mean and standard deviation\n",
    "train_mean = np.mean(train_scores, axis=1)\n",
    "train_std = np.std(train_scores, axis=1)\n",
    "test_mean = np.mean(test_scores, axis=1)\n",
    "test_std = np.std(test_scores, axis=1)\n",
    "\n",
    "plt.plot(param_range, train_mean, label='Training AUC', color='blue')\n",
    "plt.plot(param_range, test_mean, label='Validation AUC', color='green')\n",
    "plt.fill_between(param_range, train_mean - train_std, train_mean + train_std, alpha=0.2, color='blue')\n",
    "plt.fill_between(param_range, test_mean - test_std, test_mean + test_std, alpha=0.2, color='green')\n",
    "plt.xlabel('Number of Estimators')\n",
    "plt.ylabel('AUC Score')\n",
    "plt.title('Validation Curve for n_estimators')\n",
    "plt.legend()\n",
    "plt.grid(True)\n",
    "plt.show()\n"
   ]
  },
  {
   "cell_type": "markdown",
   "metadata": {},
   "source": [
    "Plot displays good generalization with overfitting not being an issue as the two values are similar in range"
   ]
  },
  {
   "cell_type": "code",
   "execution_count": 126,
   "metadata": {},
   "outputs": [
    {
     "name": "stdout",
     "output_type": "stream",
     "text": [
      "Begin Random Forest Implementation...\n",
      "End\n",
      "Plotting ROC Curve...\n"
     ]
    },
    {
     "data": {
      "image/png": "[encoded data removed]",
      "text/plain": [
       "<Figure size 640x480 with 1 Axes>"
      ]
     },
     "metadata": {},
     "output_type": "display_data"
    }
   ],
   "source": [
    "print('Begin Random Forest Implementation...')\n",
    "rf_opt_model = RandomForestClassifier(criterion='gini', max_depth = 8, min_samples_leaf = 25, n_estimators=50)\n",
    "rf_opt_model.fit(X_train, y_train) #using 50 estimators from when it plateaus \n",
    "\n",
    " \n",
    "rf_opt_preds = rf_opt_model.predict_proba(X_test)\n",
    "rf_opt_predictions = list(rf_opt_preds[:, -1])\n",
    "rf_opt_labels = rf_opt_model.predict(X_test)\n",
    "\n",
    "#accuracy of optimal random forest \n",
    "acc_opt = accuracy_score(y_test, rf_opt_labels)\n",
    "print('End')\n",
    "\n",
    "fpr_opt, tpr_opt, thresholds_opt = roc_curve(y_test, rf_opt_predictions)\n",
    "\n",
    "print('Plotting ROC Curve...')\n",
    "\n",
    "fig = plt.figure()\n",
    "ax = fig.add_subplot(111)\n",
    "\n",
    "\n",
    "sns.lineplot(x=fpr_20, y=tpr_20, marker = 'o')\n",
    "sns.lineplot(x=fpr_100, y=tpr_100, marker = 'o')\n",
    "sns.lineplot(x=fpr_opt, y=tpr_opt, marker = 'o')\n",
    "\n",
    "plt.title(\"Receiver operating characteristic (ROC) curve\")\n",
    "plt.xlabel(\"False positive rate\")\n",
    "plt.ylabel(\"True positive rate\")\n",
    "plt.legend(['RF with 20 estimators', 'RF with 100 estimators', 'OPT RF with 50 estimators'])\n",
    "plt.show()\n"
   ]
  },
  {
   "cell_type": "code",
   "execution_count": 127,
   "metadata": {},
   "outputs": [
    {
     "name": "stdout",
     "output_type": "stream",
     "text": [
      "AUC of the RF model with 20 estimators is 0.805\n",
      "Accuracy of RF model with 20 estimators: 0.803\n",
      "\n",
      "AUC of the RF model with 100 estimators is 0.811\n",
      "Accuracy of RF model with 100 estimators: 0.806\n",
      "\n",
      "AUC of the Optimal RF model with 50 estimators is 0.847\n",
      "Accuracy of RF model with 50 estimators: 0.823\n",
      "\n"
     ]
    }
   ],
   "source": [
    "# AUC for rf_20_model\n",
    "auc_20 = auc(fpr_20, tpr_20)\n",
    "print(\"AUC of the RF model with 20 estimators is {:.3f}\".format(auc_20))\n",
    "print(f\"Accuracy of RF model with 20 estimators: {acc_20:.3f}\\n\")\n",
    "\n",
    "# AUC for rf_100_model\n",
    "auc_100 = auc(fpr_100, tpr_100)\n",
    "print(\"AUC of the RF model with 100 estimators is {:.3f}\".format(auc_100))\n",
    "print(f\"Accuracy of RF model with 100 estimators: {acc_100:.3f}\\n\")\n",
    "\n",
    "#AUC for rf_opt_model\n",
    "auc_opt = auc(fpr_opt, tpr_opt)\n",
    "print(\"AUC of the Optimal RF model with 50 estimators is {:.3f}\".format(auc_opt))\n",
    "print(f\"Accuracy of RF model with 50 estimators: {acc_opt:.3f}\\n\")\n",
    "\n"
   ]
  },
  {
   "cell_type": "markdown",
   "metadata": {},
   "source": [
    "## Logistic Regression Model"
   ]
  },
  {
   "cell_type": "code",
   "execution_count": 128,
   "metadata": {},
   "outputs": [],
   "source": [
    "X = df.drop(columns = 'income_binary')\n",
    "y = df['income_binary']"
   ]
  },
  {
   "cell_type": "code",
   "execution_count": 129,
   "metadata": {},
   "outputs": [],
   "source": [
    "X_train, X_test, y_train, y_test = train_test_split(X, y, test_size=0.33, random_state=1234)"
   ]
  },
  {
   "cell_type": "code",
   "execution_count": 150,
   "metadata": {},
   "outputs": [
    {
     "name": "stdout",
     "output_type": "stream",
     "text": [
      "C=0.01: Log Loss = 0.319, Accuracy = 0.852\n",
      "C=0.1: Log Loss = 0.318, Accuracy = 0.851\n",
      "C=1: Log Loss = 0.318, Accuracy = 0.851\n",
      "C=10: Log Loss = 0.318, Accuracy = 0.851\n",
      "C=100: Log Loss = 0.318, Accuracy = 0.851\n"
     ]
    }
   ],
   "source": [
    "# scale data for feature balance, convergence, and scalability \n",
    "scaler = StandardScaler()\n",
    "X_train_scaled = scaler.fit_transform(X_train)\n",
    "X_test_scaled = scaler.transform(X_test)\n",
    "\n",
    "C_values = [0.01, 0.1, 1, 10, 100]\n",
    "accuracy_scores = []\n",
    "\n",
    "for c in C_values:\n",
    "    model = LogisticRegression(C=c, max_iter=1000)\n",
    "    \n",
    "    # Train the model and compute metrics\n",
    "    model.fit(X_train_scaled, y_train)\n",
    "    probability_predictions = model.predict_proba(X_test_scaled)\n",
    "    l_loss = log_loss(y_test, probability_predictions)\n",
    "    class_label_predictions = model.predict(X_test_scaled)\n",
    "    acc_score = accuracy_score(y_test, class_label_predictions)\n",
    "\n",
    "    accuracy_scores.append(acc_score)\n",
    "    \n",
    "    print(f\"C={c}: Log Loss = {l_loss:.3f}, Accuracy = {acc_score:.3f}\")\n"
   ]
  },
  {
   "cell_type": "code",
   "execution_count": 149,
   "metadata": {},
   "outputs": [
    {
     "name": "stdout",
     "output_type": "stream",
     "text": [
      "\n",
      "All Accuracy Scores: [0.8517385540940144, 0.8507188742734781, 0.8507188742734781, 0.8506169062914245, 0.8506169062914245]\n"
     ]
    }
   ],
   "source": [
    "print(\"\\nAll Accuracy Scores:\", accuracy_scores)"
   ]
  },
  {
   "cell_type": "markdown",
   "metadata": {},
   "source": [
    "### Analysis"
   ]
  },
  {
   "cell_type": "markdown",
   "metadata": {},
   "source": [
    "I began by training Random Forest models with 20 and 100 estimators to evaluate performance. The model with 20 estimators produced an AUC of 0.805 and an accuracy of 0.803, while increasing to 100 estimators led to a slight improvement with an AUC of 0.811 and accuracy of 0.806. To further optimize the model, I applied GridSearchCV to tune hyperparameters such as max_depth, min_samples_leaf, and criterion. Using the best settings, the refined Random Forest model with 50 estimators achieved a significant boost, reaching an AUC of 0.847 and an accuracy of 0.823.\n",
    "\n",
    "To ensure the model's stability and guard against overfitting, I plotted a validation curve for n_estimators. The curve revealed that the AUC plateaued around 50 estimators, with a training AUC of approximately 0.852 and a closely aligned validation AUC of 0.842. This small gap suggested that the model was generalizing well and not overfitting.\n",
    "\n",
    "I developed a logistic regression model using the same dataset where I applied one-hot encoding to categorical features and winsorization to the initial four numerical features. This time, I included all  features and experimented with a range of regularization strengths by varying the C parameter. The model achieved its highest accuracy of 0.851 when C = 0.01, outperforming our previously optimized random forest model, which had an accuracy of 0.823. Additionally, the logistic regression model produced a log loss of approximately 0.318, indicating solid predictive performance. By scaling the data, the model's accuracy and log loss remained consistent across all tested values of C, suggesting a stable and well-balanced feature set. This consistency also implies that the model is not overly sensitive to the regularization parameter, and that it generalizes well to new data. In this analysis, logistic regression demonstrated stronger predictive performance than the random forest model."
   ]
  }
 ],
 "metadata": {
  "kernelspec": {
   "display_name": "Python 3 (ipykernel)",
   "language": "python",
   "name": "python3"
  },
  "language_info": {
   "codemirror_mode": {
    "name": "ipython",
    "version": 3
   },
   "file_extension": ".py",
   "mimetype": "text/x-python",
   "name": "python",
   "nbconvert_exporter": "python",
   "pygments_lexer": "ipython3",
   "version": "3.9.19"
  },
  "toc": {
   "base_numbering": 1,
   "nav_menu": {},
   "number_sections": false,
   "sideBar": true,
   "skip_h1_title": false,
   "title_cell": "Table of Contents",
   "title_sidebar": "Contents",
   "toc_cell": false,
   "toc_position": {},
   "toc_section_display": true,
   "toc_window_display": false
  },
  "varInspector": {
   "cols": {
    "lenName": 16,
    "lenType": 16,
    "lenVar": 40
   },
   "kernels_config": {
    "python": {
     "delete_cmd_postfix": "",
     "delete_cmd_prefix": "del ",
     "library": "var_list.py",
     "varRefreshCmd": "print(var_dic_list())"
    },
    "r": {
     "delete_cmd_postfix": ") ",
     "delete_cmd_prefix": "rm(",
     "library": "var_list.r",
     "varRefreshCmd": "cat(var_dic_list()) "
    }
   },
   "types_to_exclude": [
    "module",
    "function",
    "builtin_function_or_method",
    "instance",
    "_Feature"
   ],
   "window_display": false
  }
 },
 "nbformat": 4,
 "nbformat_minor": 4
}
